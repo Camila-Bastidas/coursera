{
 "cells": [
  {
   "cell_type": "markdown",
   "id": "b27d0379",
   "metadata": {},
   "source": [
    "# Data Science Tools and Ecosystem\n"
   ]
  },
  {
   "cell_type": "markdown",
   "id": "45fcf140",
   "metadata": {},
   "source": [
    "## In this notebook, Data Science Tools and Ecosystem are summarized."
   ]
  },
  {
   "cell_type": "markdown",
   "id": "18185ced",
   "metadata": {},
   "source": [
    "**Objectives:**\n",
    "\n",
    "- Popular languages that Data Scientists use\n",
    "- Libraries used by Data Scientists \n",
    "- Arithmetic expressions in Python\n",
    "\n",
    "\n",
    "\n"
   ]
  },
  {
   "cell_type": "markdown",
   "id": "0a6b8d49",
   "metadata": {},
   "source": [
    "## Some of the popular languages that Data Scientists use are:\n",
    "\n",
    "### 1. Python\n",
    "### 2. R\n",
    "### 3. SQL\n"
   ]
  },
  {
   "cell_type": "markdown",
   "id": "f5d7ff32",
   "metadata": {},
   "source": [
    "## Some of the commonly used libraries used by Data Scientists include:\n",
    "\n",
    "### 1. Numpy\n",
    "### 2. Pytorch\n",
    "### 3. Pandas\n",
    "\n"
   ]
  },
  {
   "cell_type": "markdown",
   "id": "53072b97",
   "metadata": {},
   "source": [
    "|Data Science Tools|\n",
    "|----|\n",
    "|Jupyter notebook|\n",
    "|VS code|\n",
    "|Spyder|"
   ]
  },
  {
   "cell_type": "markdown",
   "id": "f7a8b904",
   "metadata": {},
   "source": [
    "### Below are a few examples of evaluating arithmetic expressions in Python.\n"
   ]
  },
  {
   "cell_type": "code",
   "execution_count": 13,
   "id": "5ead7f3d",
   "metadata": {},
   "outputs": [
    {
     "data": {
      "text/plain": [
       "17"
      ]
     },
     "execution_count": 13,
     "metadata": {},
     "output_type": "execute_result"
    }
   ],
   "source": [
    "#This a simple arithmetic expression to mutiply then add integers\n",
    "(3*4)+5"
   ]
  },
  {
   "cell_type": "code",
   "execution_count": 14,
   "id": "5ffca5e5",
   "metadata": {},
   "outputs": [
    {
     "data": {
      "text/plain": [
       "3.3333333333333335"
      ]
     },
     "execution_count": 14,
     "metadata": {},
     "output_type": "execute_result"
    }
   ],
   "source": [
    "#  This will convert 200 minutes to hours by diving by 60\n",
    "200/60"
   ]
  },
  {
   "cell_type": "markdown",
   "id": "57e3a2e6",
   "metadata": {},
   "source": [
    "## Author\n",
    "Camila Y. Bastidas"
   ]
  }
 ],
 "metadata": {
  "kernelspec": {
   "display_name": "Python 3 (ipykernel)",
   "language": "python",
   "name": "python3"
  },
  "language_info": {
   "codemirror_mode": {
    "name": "ipython",
    "version": 3
   },
   "file_extension": ".py",
   "mimetype": "text/x-python",
   "name": "python",
   "nbconvert_exporter": "python",
   "pygments_lexer": "ipython3",
   "version": "3.10.9"
  }
 },
 "nbformat": 4,
 "nbformat_minor": 5
}
